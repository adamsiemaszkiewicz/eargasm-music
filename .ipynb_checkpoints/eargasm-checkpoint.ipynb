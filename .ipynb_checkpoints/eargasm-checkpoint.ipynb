{
 "cells": [
  {
   "cell_type": "markdown",
   "metadata": {},
   "source": [
    "#### Install Spotipy library to use Spotify Web API"
   ]
  },
  {
   "cell_type": "code",
   "execution_count": 1,
   "metadata": {},
   "outputs": [
    {
     "name": "stdout",
     "output_type": "stream",
     "text": [
      "Requirement already up-to-date: spotipy in c:\\users\\adam\\miniconda3\\envs\\ml\\lib\\site-packages (2.16.0)\n",
      "Requirement already satisfied, skipping upgrade: requests>=2.20.0 in c:\\users\\adam\\miniconda3\\envs\\ml\\lib\\site-packages (from spotipy) (2.24.0)\n",
      "Requirement already satisfied, skipping upgrade: six>=1.10.0 in c:\\users\\adam\\miniconda3\\envs\\ml\\lib\\site-packages (from spotipy) (1.15.0)\n",
      "Requirement already satisfied, skipping upgrade: urllib3!=1.25.0,!=1.25.1,<1.26,>=1.21.1 in c:\\users\\adam\\miniconda3\\envs\\ml\\lib\\site-packages (from requests>=2.20.0->spotipy) (1.25.10)\n",
      "Requirement already satisfied, skipping upgrade: chardet<4,>=3.0.2 in c:\\users\\adam\\miniconda3\\envs\\ml\\lib\\site-packages (from requests>=2.20.0->spotipy) (3.0.4)\n",
      "Requirement already satisfied, skipping upgrade: certifi>=2017.4.17 in c:\\users\\adam\\miniconda3\\envs\\ml\\lib\\site-packages (from requests>=2.20.0->spotipy) (2020.6.20)\n",
      "Requirement already satisfied, skipping upgrade: idna<3,>=2.5 in c:\\users\\adam\\miniconda3\\envs\\ml\\lib\\site-packages (from requests>=2.20.0->spotipy) (2.10)\n",
      "Note: you may need to restart the kernel to use updated packages.\n"
     ]
    }
   ],
   "source": [
    "pip install spotipy --upgrade"
   ]
  },
  {
   "cell_type": "code",
   "execution_count": 2,
   "metadata": {},
   "outputs": [
    {
     "name": "stdout",
     "output_type": "stream",
     "text": [
      "Requirement already satisfied: python-dotenv in c:\\users\\adam\\miniconda3\\envs\\ml\\lib\\site-packages (0.14.0)\n",
      "Note: you may need to restart the kernel to use updated packages.\n"
     ]
    }
   ],
   "source": [
    "pip install python-dotenv"
   ]
  },
  {
   "cell_type": "markdown",
   "metadata": {},
   "source": [
    "#### Import OS functionality & load environment variables from the local `.env`"
   ]
  },
  {
   "cell_type": "code",
   "execution_count": 3,
   "metadata": {},
   "outputs": [],
   "source": [
    "import os\n",
    "from dotenv import load_dotenv\n",
    "load_dotenv()\n",
    "\n",
    "client_id = os.getenv('CLIENT_ID')\n",
    "client_secret = os.getenv('CLIENT_SECRET')"
   ]
  },
  {
   "cell_type": "markdown",
   "metadata": {},
   "source": [
    "#### Import spotipy library to use Spotify Web API\n",
    "https://spotipy.readthedocs.io/"
   ]
  },
  {
   "cell_type": "markdown",
   "metadata": {},
   "source": [
    "## Authentication"
   ]
  },
  {
   "cell_type": "code",
   "execution_count": 4,
   "metadata": {},
   "outputs": [],
   "source": [
    "import spotipy\n",
    "from spotipy.oauth2 import SpotifyClientCredentials\n",
    "\n",
    "client_credentials_manager = SpotifyClientCredentials(client_id=client_id,\n",
    "                                                      client_secret=client_secret)\n",
    "sp = spotipy.Spotify(client_credentials_manager=client_credentials_manager)"
   ]
  },
  {
   "cell_type": "markdown",
   "metadata": {},
   "source": [
    "## List of playlists"
   ]
  },
  {
   "cell_type": "code",
   "execution_count": 5,
   "metadata": {
    "scrolled": true
   },
   "outputs": [
    {
     "data": {
      "text/html": [
       "<div>\n",
       "<style scoped>\n",
       "    .dataframe tbody tr th:only-of-type {\n",
       "        vertical-align: middle;\n",
       "    }\n",
       "\n",
       "    .dataframe tbody tr th {\n",
       "        vertical-align: top;\n",
       "    }\n",
       "\n",
       "    .dataframe thead th {\n",
       "        text-align: right;\n",
       "    }\n",
       "</style>\n",
       "<table border=\"1\" class=\"dataframe\">\n",
       "  <thead>\n",
       "    <tr style=\"text-align: right;\">\n",
       "      <th></th>\n",
       "      <th>id</th>\n",
       "      <th>name</th>\n",
       "    </tr>\n",
       "  </thead>\n",
       "  <tbody>\n",
       "    <tr>\n",
       "      <th>0</th>\n",
       "      <td>5apHWYcigR3lSZpyzyGKEa</td>\n",
       "      <td>eargasm | breathe easy</td>\n",
       "    </tr>\n",
       "    <tr>\n",
       "      <th>1</th>\n",
       "      <td>3MXM4ca1b3bT198F7mG9ms</td>\n",
       "      <td>eargasm | city walk</td>\n",
       "    </tr>\n",
       "    <tr>\n",
       "      <th>2</th>\n",
       "      <td>2QdM3NBe7lkOzC7OqWXfNI</td>\n",
       "      <td>eargasm | curvatronik</td>\n",
       "    </tr>\n",
       "    <tr>\n",
       "      <th>3</th>\n",
       "      <td>1CwPTyGbQDSda6m7vTys1d</td>\n",
       "      <td>eargasm | decadency</td>\n",
       "    </tr>\n",
       "    <tr>\n",
       "      <th>4</th>\n",
       "      <td>6pGQQZ4PITmFnSC0rTnmXp</td>\n",
       "      <td>eargasm | deep water</td>\n",
       "    </tr>\n",
       "    <tr>\n",
       "      <th>5</th>\n",
       "      <td>7tOxW8H2qzxGmIgwAFSYrw</td>\n",
       "      <td>eargasm | departure</td>\n",
       "    </tr>\n",
       "    <tr>\n",
       "      <th>6</th>\n",
       "      <td>1YfxkylLN0ecX19mAquHGy</td>\n",
       "      <td>eargasm | dust settling</td>\n",
       "    </tr>\n",
       "    <tr>\n",
       "      <th>7</th>\n",
       "      <td>1zPa9pKaSsIZYVuuxZqAdv</td>\n",
       "      <td>eargasm | get moving</td>\n",
       "    </tr>\n",
       "    <tr>\n",
       "      <th>8</th>\n",
       "      <td>4aVYl96G4Xjfsc7IT1V8pj</td>\n",
       "      <td>eargasm | glide</td>\n",
       "    </tr>\n",
       "    <tr>\n",
       "      <th>9</th>\n",
       "      <td>5s9oeBauiz5PDbDHCRix0Y</td>\n",
       "      <td>eargasm | high frequency radio</td>\n",
       "    </tr>\n",
       "    <tr>\n",
       "      <th>10</th>\n",
       "      <td>7nrsN5xIdh0ol5cOV3Ri5D</td>\n",
       "      <td>eargasm | into the wild</td>\n",
       "    </tr>\n",
       "    <tr>\n",
       "      <th>11</th>\n",
       "      <td>5gMjf6A0YH9rALweR0ejeO</td>\n",
       "      <td>eargasm | joyride</td>\n",
       "    </tr>\n",
       "    <tr>\n",
       "      <th>12</th>\n",
       "      <td>35W6kXZzWwRBcmHvKDRvyE</td>\n",
       "      <td>eargasm | kickin' it ol' skool</td>\n",
       "    </tr>\n",
       "    <tr>\n",
       "      <th>13</th>\n",
       "      <td>7a87R9rSGECEIJgDeVrojF</td>\n",
       "      <td>eargasm | loungin'</td>\n",
       "    </tr>\n",
       "    <tr>\n",
       "      <th>14</th>\n",
       "      <td>31KDCs5aYq9okxLnsdgOIH</td>\n",
       "      <td>eargasm | neon socks</td>\n",
       "    </tr>\n",
       "    <tr>\n",
       "      <th>15</th>\n",
       "      <td>5LzidLwoF4Th3WDHUoUEOK</td>\n",
       "      <td>eargasm | on top</td>\n",
       "    </tr>\n",
       "    <tr>\n",
       "      <th>16</th>\n",
       "      <td>3MmEnUrCupZobijAHTeHLE</td>\n",
       "      <td>eargasm | organised noise</td>\n",
       "    </tr>\n",
       "    <tr>\n",
       "      <th>17</th>\n",
       "      <td>190gSyrWHdtxGe8cHbx1vr</td>\n",
       "      <td>eargasm | oscilloscope</td>\n",
       "    </tr>\n",
       "    <tr>\n",
       "      <th>18</th>\n",
       "      <td>27kF0yvqV2v4NUkfqBJA11</td>\n",
       "      <td>eargasm | polymers</td>\n",
       "    </tr>\n",
       "    <tr>\n",
       "      <th>19</th>\n",
       "      <td>7FJAYsYTBwsGqXxSwl5Jht</td>\n",
       "      <td>eargasm | ptsd</td>\n",
       "    </tr>\n",
       "    <tr>\n",
       "      <th>20</th>\n",
       "      <td>53N2EgQ15C9MxejBqbMRLr</td>\n",
       "      <td>eargasm | sky gazing</td>\n",
       "    </tr>\n",
       "    <tr>\n",
       "      <th>21</th>\n",
       "      <td>7Ij6BX3PvfwgItYiXVXaU3</td>\n",
       "      <td>eargasm | sleepwalking</td>\n",
       "    </tr>\n",
       "    <tr>\n",
       "      <th>22</th>\n",
       "      <td>21gcPcBIyOJ94ZQRCblo0w</td>\n",
       "      <td>eargasm | solitary confinement</td>\n",
       "    </tr>\n",
       "    <tr>\n",
       "      <th>23</th>\n",
       "      <td>7A21vKIId6f8j2tlcPZ8tw</td>\n",
       "      <td>eargasm | space odyssey</td>\n",
       "    </tr>\n",
       "    <tr>\n",
       "      <th>24</th>\n",
       "      <td>2ZfWdyIxmbSf46bV1Usk9I</td>\n",
       "      <td>eargasm | sunny days</td>\n",
       "    </tr>\n",
       "    <tr>\n",
       "      <th>25</th>\n",
       "      <td>0S4uGClLWS8NK1gYaZ5Mna</td>\n",
       "      <td>eargasm | swimming pool sunset</td>\n",
       "    </tr>\n",
       "    <tr>\n",
       "      <th>26</th>\n",
       "      <td>73Thk8F2Bl6wZd0rpdrW2W</td>\n",
       "      <td>eargasm | warm up</td>\n",
       "    </tr>\n",
       "    <tr>\n",
       "      <th>27</th>\n",
       "      <td>29OXcQTp1HPeniNeVulnq4</td>\n",
       "      <td>eargasm | we up all night</td>\n",
       "    </tr>\n",
       "    <tr>\n",
       "      <th>28</th>\n",
       "      <td>39Vs61fBBQr7CArKL5iLTT</td>\n",
       "      <td>eargasm | weightless</td>\n",
       "    </tr>\n",
       "  </tbody>\n",
       "</table>\n",
       "</div>"
      ],
      "text/plain": [
       "                        id                            name\n",
       "0   5apHWYcigR3lSZpyzyGKEa          eargasm | breathe easy\n",
       "1   3MXM4ca1b3bT198F7mG9ms             eargasm | city walk\n",
       "2   2QdM3NBe7lkOzC7OqWXfNI           eargasm | curvatronik\n",
       "3   1CwPTyGbQDSda6m7vTys1d             eargasm | decadency\n",
       "4   6pGQQZ4PITmFnSC0rTnmXp            eargasm | deep water\n",
       "5   7tOxW8H2qzxGmIgwAFSYrw             eargasm | departure\n",
       "6   1YfxkylLN0ecX19mAquHGy         eargasm | dust settling\n",
       "7   1zPa9pKaSsIZYVuuxZqAdv            eargasm | get moving\n",
       "8   4aVYl96G4Xjfsc7IT1V8pj                 eargasm | glide\n",
       "9   5s9oeBauiz5PDbDHCRix0Y  eargasm | high frequency radio\n",
       "10  7nrsN5xIdh0ol5cOV3Ri5D         eargasm | into the wild\n",
       "11  5gMjf6A0YH9rALweR0ejeO               eargasm | joyride\n",
       "12  35W6kXZzWwRBcmHvKDRvyE  eargasm | kickin' it ol' skool\n",
       "13  7a87R9rSGECEIJgDeVrojF              eargasm | loungin'\n",
       "14  31KDCs5aYq9okxLnsdgOIH            eargasm | neon socks\n",
       "15  5LzidLwoF4Th3WDHUoUEOK                eargasm | on top\n",
       "16  3MmEnUrCupZobijAHTeHLE       eargasm | organised noise\n",
       "17  190gSyrWHdtxGe8cHbx1vr          eargasm | oscilloscope\n",
       "18  27kF0yvqV2v4NUkfqBJA11              eargasm | polymers\n",
       "19  7FJAYsYTBwsGqXxSwl5Jht                  eargasm | ptsd\n",
       "20  53N2EgQ15C9MxejBqbMRLr            eargasm | sky gazing\n",
       "21  7Ij6BX3PvfwgItYiXVXaU3          eargasm | sleepwalking\n",
       "22  21gcPcBIyOJ94ZQRCblo0w  eargasm | solitary confinement\n",
       "23  7A21vKIId6f8j2tlcPZ8tw         eargasm | space odyssey\n",
       "24  2ZfWdyIxmbSf46bV1Usk9I            eargasm | sunny days\n",
       "25  0S4uGClLWS8NK1gYaZ5Mna  eargasm | swimming pool sunset\n",
       "26  73Thk8F2Bl6wZd0rpdrW2W               eargasm | warm up\n",
       "27  29OXcQTp1HPeniNeVulnq4       eargasm | we up all night\n",
       "28  39Vs61fBBQr7CArKL5iLTT            eargasm | weightless"
      ]
     },
     "execution_count": 5,
     "metadata": {},
     "output_type": "execute_result"
    }
   ],
   "source": [
    "import pandas as pd\n",
    "USER_NAME = 'eargasmusic'\n",
    "user = sp.user(USER_NAME)\n",
    "playlist_dict = sp.user_playlists(USER_NAME)\n",
    "playlist_items = playlist_dict['items']\n",
    "all_playlists = pd.DataFrame(playlist_items,\n",
    "                         columns=['id', 'name'])\n",
    "\n",
    "# Create boolean filter series to mask named and unnamed playlists\n",
    "named = all_playlists['name'].str.startswith('eargasm | ')\n",
    "unnamed = all_playlists['name'].str.startswith('eargasm music ')\n",
    "\n",
    "# Let's keep these playlists as unlabeled for later experiments\n",
    "unnamed_playlists = all_playlists[unnamed.values]\n",
    "# Extract all named playlists\n",
    "named_playlists = all_playlists[named.values]\n",
    "\n",
    "\n",
    "named_playlists"
   ]
  },
  {
   "cell_type": "markdown",
   "metadata": {},
   "source": [
    "## Basic song information"
   ]
  },
  {
   "cell_type": "code",
   "execution_count": 6,
   "metadata": {
    "scrolled": true
   },
   "outputs": [
    {
     "name": "stdout",
     "output_type": "stream",
     "text": [
      "Runtime: 312.19229459999997 seconds.\n"
     ]
    }
   ],
   "source": [
    "# Import timeit library to count the processing time\n",
    "import timeit\n",
    "start = timeit.default_timer()\n",
    "\n",
    "track_id = []\n",
    "track_artists = []\n",
    "track_name = []\n",
    "track_duration = []\n",
    "track_popularity = []\n",
    "track_releasedate = []\n",
    "track_playlist = []\n",
    "\n",
    "for _, (_id, _name) in named_playlists.iterrows():\n",
    "    \n",
    "    for i in range(0,10000,100):\n",
    "        \n",
    "        playlist_items = sp.playlist_items(_id, limit=100, offset=i)['items']        \n",
    "        for item in playlist_items:\n",
    "            track_id.append(item['track']['id'])\n",
    "            track_artists.append(item['track']['artists'][0]['name'])\n",
    "            track_name.append(item['track']['name'])\n",
    "            track_duration.append(item['track']['duration_ms'])\n",
    "            track_popularity.append(item['track']['popularity'])\n",
    "            track_releasedate.append(item['track']['album']['release_date'])\n",
    "            track_playlist.append(_name)        \n",
    "    \n",
    "labeled_songs = pd.DataFrame({'track_id': track_id,\n",
    "                              'track_artists': track_artists,\n",
    "                              'track_name': track_name,\n",
    "                              'track_duration': track_duration,\n",
    "                              'track_popularity': track_popularity,\n",
    "                              'track_releasedate': track_releasedate,\n",
    "                              'track_playlist': track_playlist})\n",
    "\n",
    "stop = timeit.default_timer()\n",
    "print('Runtime: {} seconds.'.format(stop-start))"
   ]
  },
  {
   "cell_type": "code",
   "execution_count": 7,
   "metadata": {},
   "outputs": [
    {
     "data": {
      "text/html": [
       "<div>\n",
       "<style scoped>\n",
       "    .dataframe tbody tr th:only-of-type {\n",
       "        vertical-align: middle;\n",
       "    }\n",
       "\n",
       "    .dataframe tbody tr th {\n",
       "        vertical-align: top;\n",
       "    }\n",
       "\n",
       "    .dataframe thead th {\n",
       "        text-align: right;\n",
       "    }\n",
       "</style>\n",
       "<table border=\"1\" class=\"dataframe\">\n",
       "  <thead>\n",
       "    <tr style=\"text-align: right;\">\n",
       "      <th></th>\n",
       "      <th>track_id</th>\n",
       "      <th>track_artists</th>\n",
       "      <th>track_name</th>\n",
       "      <th>track_duration</th>\n",
       "      <th>track_popularity</th>\n",
       "      <th>track_releasedate</th>\n",
       "      <th>track_playlist</th>\n",
       "    </tr>\n",
       "  </thead>\n",
       "  <tbody>\n",
       "    <tr>\n",
       "      <th>0</th>\n",
       "      <td>1ua6hBq18qZLyprXjMcpyf</td>\n",
       "      <td>Virgil Howe</td>\n",
       "      <td>Someday</td>\n",
       "      <td>251266</td>\n",
       "      <td>43</td>\n",
       "      <td>2009-10-19</td>\n",
       "      <td>eargasm | breathe easy</td>\n",
       "    </tr>\n",
       "    <tr>\n",
       "      <th>1</th>\n",
       "      <td>42VpxSdGQgnV1UJkWeGYkA</td>\n",
       "      <td>Cass McCombs</td>\n",
       "      <td>Switch</td>\n",
       "      <td>254233</td>\n",
       "      <td>52</td>\n",
       "      <td>2016-08-26</td>\n",
       "      <td>eargasm | breathe easy</td>\n",
       "    </tr>\n",
       "    <tr>\n",
       "      <th>2</th>\n",
       "      <td>1g8A166soQjwl1ihqBWKGW</td>\n",
       "      <td>The Slow Revolt</td>\n",
       "      <td>Lean</td>\n",
       "      <td>207699</td>\n",
       "      <td>0</td>\n",
       "      <td>2016-09-09</td>\n",
       "      <td>eargasm | breathe easy</td>\n",
       "    </tr>\n",
       "    <tr>\n",
       "      <th>3</th>\n",
       "      <td>6cAVWcj8TQ5yR2T6BZjnOg</td>\n",
       "      <td>Dirty Nice</td>\n",
       "      <td>Zero Summer</td>\n",
       "      <td>212640</td>\n",
       "      <td>0</td>\n",
       "      <td>2017-06-09</td>\n",
       "      <td>eargasm | breathe easy</td>\n",
       "    </tr>\n",
       "    <tr>\n",
       "      <th>4</th>\n",
       "      <td>3YA509E9ki7a3Ic9cf25Vt</td>\n",
       "      <td>Alex Ebert</td>\n",
       "      <td>Broken Record</td>\n",
       "      <td>274800</td>\n",
       "      <td>47</td>\n",
       "      <td>2017-05-05</td>\n",
       "      <td>eargasm | breathe easy</td>\n",
       "    </tr>\n",
       "    <tr>\n",
       "      <th>...</th>\n",
       "      <td>...</td>\n",
       "      <td>...</td>\n",
       "      <td>...</td>\n",
       "      <td>...</td>\n",
       "      <td>...</td>\n",
       "      <td>...</td>\n",
       "      <td>...</td>\n",
       "    </tr>\n",
       "    <tr>\n",
       "      <th>3616</th>\n",
       "      <td>0hXzxTABL0Q85WhdzS62Fc</td>\n",
       "      <td>Sevdaliza</td>\n",
       "      <td>Amandine Insensible</td>\n",
       "      <td>253884</td>\n",
       "      <td>29</td>\n",
       "      <td>2015-11-24</td>\n",
       "      <td>eargasm | weightless</td>\n",
       "    </tr>\n",
       "    <tr>\n",
       "      <th>3617</th>\n",
       "      <td>2sudalI4ICuiFAHIqOdQlo</td>\n",
       "      <td>Oko Ebombo</td>\n",
       "      <td>Niggality</td>\n",
       "      <td>365042</td>\n",
       "      <td>19</td>\n",
       "      <td>2016</td>\n",
       "      <td>eargasm | weightless</td>\n",
       "    </tr>\n",
       "    <tr>\n",
       "      <th>3618</th>\n",
       "      <td>0Jx42ufEToqS6vzHFZz6L8</td>\n",
       "      <td>Inner Tongue</td>\n",
       "      <td>Dig Deeper</td>\n",
       "      <td>212800</td>\n",
       "      <td>34</td>\n",
       "      <td>2018-05-25</td>\n",
       "      <td>eargasm | weightless</td>\n",
       "    </tr>\n",
       "    <tr>\n",
       "      <th>3619</th>\n",
       "      <td>01CBH5z1p01xSEsiSSykSx</td>\n",
       "      <td>Pearl De Luna</td>\n",
       "      <td>London Lullaby</td>\n",
       "      <td>297752</td>\n",
       "      <td>19</td>\n",
       "      <td>2018-01-26</td>\n",
       "      <td>eargasm | weightless</td>\n",
       "    </tr>\n",
       "    <tr>\n",
       "      <th>3620</th>\n",
       "      <td>51C6ZIS91sig8ZHrWtsWlt</td>\n",
       "      <td>Laurence Guy</td>\n",
       "      <td>The Sun Is Warm and Directly Above You</td>\n",
       "      <td>222148</td>\n",
       "      <td>36</td>\n",
       "      <td>2020-02-21</td>\n",
       "      <td>eargasm | weightless</td>\n",
       "    </tr>\n",
       "  </tbody>\n",
       "</table>\n",
       "<p>3621 rows × 7 columns</p>\n",
       "</div>"
      ],
      "text/plain": [
       "                    track_id    track_artists  \\\n",
       "0     1ua6hBq18qZLyprXjMcpyf      Virgil Howe   \n",
       "1     42VpxSdGQgnV1UJkWeGYkA     Cass McCombs   \n",
       "2     1g8A166soQjwl1ihqBWKGW  The Slow Revolt   \n",
       "3     6cAVWcj8TQ5yR2T6BZjnOg       Dirty Nice   \n",
       "4     3YA509E9ki7a3Ic9cf25Vt       Alex Ebert   \n",
       "...                      ...              ...   \n",
       "3616  0hXzxTABL0Q85WhdzS62Fc        Sevdaliza   \n",
       "3617  2sudalI4ICuiFAHIqOdQlo       Oko Ebombo   \n",
       "3618  0Jx42ufEToqS6vzHFZz6L8     Inner Tongue   \n",
       "3619  01CBH5z1p01xSEsiSSykSx    Pearl De Luna   \n",
       "3620  51C6ZIS91sig8ZHrWtsWlt     Laurence Guy   \n",
       "\n",
       "                                  track_name  track_duration  \\\n",
       "0                                    Someday          251266   \n",
       "1                                     Switch          254233   \n",
       "2                                       Lean          207699   \n",
       "3                                Zero Summer          212640   \n",
       "4                              Broken Record          274800   \n",
       "...                                      ...             ...   \n",
       "3616                     Amandine Insensible          253884   \n",
       "3617                               Niggality          365042   \n",
       "3618                              Dig Deeper          212800   \n",
       "3619                          London Lullaby          297752   \n",
       "3620  The Sun Is Warm and Directly Above You          222148   \n",
       "\n",
       "      track_popularity track_releasedate          track_playlist  \n",
       "0                   43        2009-10-19  eargasm | breathe easy  \n",
       "1                   52        2016-08-26  eargasm | breathe easy  \n",
       "2                    0        2016-09-09  eargasm | breathe easy  \n",
       "3                    0        2017-06-09  eargasm | breathe easy  \n",
       "4                   47        2017-05-05  eargasm | breathe easy  \n",
       "...                ...               ...                     ...  \n",
       "3616                29        2015-11-24    eargasm | weightless  \n",
       "3617                19              2016    eargasm | weightless  \n",
       "3618                34        2018-05-25    eargasm | weightless  \n",
       "3619                19        2018-01-26    eargasm | weightless  \n",
       "3620                36        2020-02-21    eargasm | weightless  \n",
       "\n",
       "[3621 rows x 7 columns]"
      ]
     },
     "execution_count": 7,
     "metadata": {},
     "output_type": "execute_result"
    }
   ],
   "source": [
    "labeled_songs"
   ]
  },
  {
   "cell_type": "markdown",
   "metadata": {},
   "source": [
    "## Audio features"
   ]
  },
  {
   "cell_type": "code",
   "execution_count": 28,
   "metadata": {},
   "outputs": [],
   "source": [
    "def audio_features(id):\n",
    "    all_features = sp.audio_features(id)\n",
    "    columns_to_keep = ['id',\n",
    "                       'danceability',\n",
    "                       'energy',\n",
    "                       'key',\n",
    "                       'loudness',\n",
    "                       'mode',\n",
    "                       'speechiness',\n",
    "                       'acousticness',\n",
    "                       'instrumentalness',\n",
    "                       'liveness',\n",
    "                       'valence',\n",
    "                       'tempo']\n",
    "    selected_features = pd.DataFrame(all_features,\n",
    "                                     columns=columns_to_keep)\n",
    "    return selected_features"
   ]
  },
  {
   "cell_type": "code",
   "execution_count": null,
   "metadata": {},
   "outputs": [],
   "source": []
  },
  {
   "cell_type": "code",
   "execution_count": 12,
   "metadata": {},
   "outputs": [
    {
     "data": {
      "text/plain": [
       "dict_keys(['meta', 'track', 'bars', 'beats', 'sections', 'segments', 'tatums'])"
      ]
     },
     "execution_count": 12,
     "metadata": {},
     "output_type": "execute_result"
    }
   ],
   "source": [
    "audio_analysis = sp.audio_analysis('1ua6hBq18qZLyprXjMcpyf')\n",
    "audio_analysis.keys()"
   ]
  },
  {
   "cell_type": "code",
   "execution_count": 17,
   "metadata": {},
   "outputs": [
    {
     "data": {
      "text/plain": [
       "9"
      ]
     },
     "execution_count": 17,
     "metadata": {},
     "output_type": "execute_result"
    }
   ],
   "source": [
    "audio_analysis['track']['key']"
   ]
  },
  {
   "cell_type": "code",
   "execution_count": null,
   "metadata": {},
   "outputs": [],
   "source": []
  },
  {
   "cell_type": "markdown",
   "metadata": {},
   "source": [
    "## TO DO\n",
    "\n",
    "- duplicate songs\n",
    "- similarities\n",
    "- audio features"
   ]
  },
  {
   "cell_type": "code",
   "execution_count": null,
   "metadata": {},
   "outputs": [],
   "source": []
  }
 ],
 "metadata": {
  "kernelspec": {
   "display_name": "Python 3",
   "language": "python",
   "name": "python3"
  },
  "language_info": {
   "codemirror_mode": {
    "name": "ipython",
    "version": 3
   },
   "file_extension": ".py",
   "mimetype": "text/x-python",
   "name": "python",
   "nbconvert_exporter": "python",
   "pygments_lexer": "ipython3",
   "version": "3.8.5"
  }
 },
 "nbformat": 4,
 "nbformat_minor": 4
}
