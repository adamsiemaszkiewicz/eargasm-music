{
  "nbformat": 4,
  "nbformat_minor": 0,
  "metadata": {
    "kernelspec": {
      "display_name": "Python 3",
      "language": "python",
      "name": "python3"
    },
    "language_info": {
      "codemirror_mode": {
        "name": "ipython",
        "version": 3
      },
      "file_extension": ".py",
      "mimetype": "text/x-python",
      "name": "python",
      "nbconvert_exporter": "python",
      "pygments_lexer": "ipython3",
      "version": "3.8.5"
    },
    "colab": {
      "name": "eargasm_data-retrieval.ipynb",
      "provenance": [],
      "collapsed_sections": [
        "qezgsNAIqqgq",
        "9YUkBi8Rqqgz"
      ]
    },
    "widgets": {
      "application/vnd.jupyter.widget-state+json": {
        "cf046b15a50e4e33adadcca0792e6eea": {
          "model_module": "@jupyter-widgets/controls",
          "model_name": "HBoxModel",
          "state": {
            "_view_name": "HBoxView",
            "_dom_classes": [],
            "_model_name": "HBoxModel",
            "_view_module": "@jupyter-widgets/controls",
            "_model_module_version": "1.5.0",
            "_view_count": null,
            "_view_module_version": "1.5.0",
            "box_style": "",
            "layout": "IPY_MODEL_8b14c1e5199a4510b55ba6776c664fb1",
            "_model_module": "@jupyter-widgets/controls",
            "children": [
              "IPY_MODEL_eed971ce7cf34a3d834817a5ba0945b8",
              "IPY_MODEL_cc39e1c1419b45a0bbb0507d0fea5363"
            ]
          }
        },
        "8b14c1e5199a4510b55ba6776c664fb1": {
          "model_module": "@jupyter-widgets/base",
          "model_name": "LayoutModel",
          "state": {
            "_view_name": "LayoutView",
            "grid_template_rows": null,
            "right": null,
            "justify_content": null,
            "_view_module": "@jupyter-widgets/base",
            "overflow": null,
            "_model_module_version": "1.2.0",
            "_view_count": null,
            "flex_flow": null,
            "width": null,
            "min_width": null,
            "border": null,
            "align_items": null,
            "bottom": null,
            "_model_module": "@jupyter-widgets/base",
            "top": null,
            "grid_column": null,
            "overflow_y": null,
            "overflow_x": null,
            "grid_auto_flow": null,
            "grid_area": null,
            "grid_template_columns": null,
            "flex": null,
            "_model_name": "LayoutModel",
            "justify_items": null,
            "grid_row": null,
            "max_height": null,
            "align_content": null,
            "visibility": null,
            "align_self": null,
            "height": null,
            "min_height": null,
            "padding": null,
            "grid_auto_rows": null,
            "grid_gap": null,
            "max_width": null,
            "order": null,
            "_view_module_version": "1.2.0",
            "grid_template_areas": null,
            "object_position": null,
            "object_fit": null,
            "grid_auto_columns": null,
            "margin": null,
            "display": null,
            "left": null
          }
        },
        "eed971ce7cf34a3d834817a5ba0945b8": {
          "model_module": "@jupyter-widgets/controls",
          "model_name": "FloatProgressModel",
          "state": {
            "_view_name": "ProgressView",
            "style": "IPY_MODEL_2976946dd64e443296da3f93b5e4b27b",
            "_dom_classes": [],
            "description": "",
            "_model_name": "FloatProgressModel",
            "bar_style": "danger",
            "max": 1,
            "_view_module": "@jupyter-widgets/controls",
            "_model_module_version": "1.5.0",
            "value": 0,
            "_view_count": null,
            "_view_module_version": "1.5.0",
            "orientation": "horizontal",
            "min": 0,
            "description_tooltip": null,
            "_model_module": "@jupyter-widgets/controls",
            "layout": "IPY_MODEL_6eed4e8eaa4e4a639ef89a99e9310343"
          }
        },
        "cc39e1c1419b45a0bbb0507d0fea5363": {
          "model_module": "@jupyter-widgets/controls",
          "model_name": "HTMLModel",
          "state": {
            "_view_name": "HTMLView",
            "style": "IPY_MODEL_3bb03b5c459f47c5a9c330018fac3b08",
            "_dom_classes": [],
            "description": "",
            "_model_name": "HTMLModel",
            "placeholder": "​",
            "_view_module": "@jupyter-widgets/controls",
            "_model_module_version": "1.5.0",
            "value": " 0/? [00:00&lt;?, ?it/s]",
            "_view_count": null,
            "_view_module_version": "1.5.0",
            "description_tooltip": null,
            "_model_module": "@jupyter-widgets/controls",
            "layout": "IPY_MODEL_1c24fb2126834712976a180b07ddae55"
          }
        },
        "2976946dd64e443296da3f93b5e4b27b": {
          "model_module": "@jupyter-widgets/controls",
          "model_name": "ProgressStyleModel",
          "state": {
            "_view_name": "StyleView",
            "_model_name": "ProgressStyleModel",
            "description_width": "initial",
            "_view_module": "@jupyter-widgets/base",
            "_model_module_version": "1.5.0",
            "_view_count": null,
            "_view_module_version": "1.2.0",
            "bar_color": null,
            "_model_module": "@jupyter-widgets/controls"
          }
        },
        "6eed4e8eaa4e4a639ef89a99e9310343": {
          "model_module": "@jupyter-widgets/base",
          "model_name": "LayoutModel",
          "state": {
            "_view_name": "LayoutView",
            "grid_template_rows": null,
            "right": null,
            "justify_content": null,
            "_view_module": "@jupyter-widgets/base",
            "overflow": null,
            "_model_module_version": "1.2.0",
            "_view_count": null,
            "flex_flow": null,
            "width": null,
            "min_width": null,
            "border": null,
            "align_items": null,
            "bottom": null,
            "_model_module": "@jupyter-widgets/base",
            "top": null,
            "grid_column": null,
            "overflow_y": null,
            "overflow_x": null,
            "grid_auto_flow": null,
            "grid_area": null,
            "grid_template_columns": null,
            "flex": null,
            "_model_name": "LayoutModel",
            "justify_items": null,
            "grid_row": null,
            "max_height": null,
            "align_content": null,
            "visibility": null,
            "align_self": null,
            "height": null,
            "min_height": null,
            "padding": null,
            "grid_auto_rows": null,
            "grid_gap": null,
            "max_width": null,
            "order": null,
            "_view_module_version": "1.2.0",
            "grid_template_areas": null,
            "object_position": null,
            "object_fit": null,
            "grid_auto_columns": null,
            "margin": null,
            "display": null,
            "left": null
          }
        },
        "3bb03b5c459f47c5a9c330018fac3b08": {
          "model_module": "@jupyter-widgets/controls",
          "model_name": "DescriptionStyleModel",
          "state": {
            "_view_name": "StyleView",
            "_model_name": "DescriptionStyleModel",
            "description_width": "",
            "_view_module": "@jupyter-widgets/base",
            "_model_module_version": "1.5.0",
            "_view_count": null,
            "_view_module_version": "1.2.0",
            "_model_module": "@jupyter-widgets/controls"
          }
        },
        "1c24fb2126834712976a180b07ddae55": {
          "model_module": "@jupyter-widgets/base",
          "model_name": "LayoutModel",
          "state": {
            "_view_name": "LayoutView",
            "grid_template_rows": null,
            "right": null,
            "justify_content": null,
            "_view_module": "@jupyter-widgets/base",
            "overflow": null,
            "_model_module_version": "1.2.0",
            "_view_count": null,
            "flex_flow": null,
            "width": null,
            "min_width": null,
            "border": null,
            "align_items": null,
            "bottom": null,
            "_model_module": "@jupyter-widgets/base",
            "top": null,
            "grid_column": null,
            "overflow_y": null,
            "overflow_x": null,
            "grid_auto_flow": null,
            "grid_area": null,
            "grid_template_columns": null,
            "flex": null,
            "_model_name": "LayoutModel",
            "justify_items": null,
            "grid_row": null,
            "max_height": null,
            "align_content": null,
            "visibility": null,
            "align_self": null,
            "height": null,
            "min_height": null,
            "padding": null,
            "grid_auto_rows": null,
            "grid_gap": null,
            "max_width": null,
            "order": null,
            "_view_module_version": "1.2.0",
            "grid_template_areas": null,
            "object_position": null,
            "object_fit": null,
            "grid_auto_columns": null,
            "margin": null,
            "display": null,
            "left": null
          }
        }
      }
    }
  },
  "cells": [
    {
      "cell_type": "markdown",
      "metadata": {
        "id": "1oUIqUzYqqgD"
      },
      "source": [
        "#### Install Spotipy library to use Spotify Web API & dotenv for the environment variables"
      ]
    },
    {
      "cell_type": "code",
      "metadata": {
        "id": "3-YUT9fzqqgE",
        "outputId": "a00fccdd-fd63-4432-b434-ee0f8ebe8a16",
        "colab": {
          "base_uri": "https://localhost:8080/",
          "height": 143
        }
      },
      "source": [
        "pip install spotipy"
      ],
      "execution_count": 1,
      "outputs": [
        {
          "output_type": "stream",
          "text": [
            "Requirement already satisfied: spotipy in /usr/local/lib/python3.6/dist-packages (2.16.0)\n",
            "Requirement already satisfied: requests>=2.20.0 in /usr/local/lib/python3.6/dist-packages (from spotipy) (2.23.0)\n",
            "Requirement already satisfied: six>=1.10.0 in /usr/local/lib/python3.6/dist-packages (from spotipy) (1.15.0)\n",
            "Requirement already satisfied: idna<3,>=2.5 in /usr/local/lib/python3.6/dist-packages (from requests>=2.20.0->spotipy) (2.10)\n",
            "Requirement already satisfied: chardet<4,>=3.0.2 in /usr/local/lib/python3.6/dist-packages (from requests>=2.20.0->spotipy) (3.0.4)\n",
            "Requirement already satisfied: certifi>=2017.4.17 in /usr/local/lib/python3.6/dist-packages (from requests>=2.20.0->spotipy) (2020.6.20)\n",
            "Requirement already satisfied: urllib3!=1.25.0,!=1.25.1,<1.26,>=1.21.1 in /usr/local/lib/python3.6/dist-packages (from requests>=2.20.0->spotipy) (1.24.3)\n"
          ],
          "name": "stdout"
        }
      ]
    },
    {
      "cell_type": "code",
      "metadata": {
        "id": "Uqv3rkTHqqgI"
      },
      "source": [
        "!pip install colab-env -qU"
      ],
      "execution_count": 2,
      "outputs": []
    },
    {
      "cell_type": "markdown",
      "metadata": {
        "id": "_UH_ErOnqqgK"
      },
      "source": [
        "#### Import OS functionality & load environment variables from the local `.env`"
      ]
    },
    {
      "cell_type": "code",
      "metadata": {
        "id": "w0LUTfWjqqgL",
        "outputId": "5434f2e7-96ec-48a7-ff02-da2c5584a08e",
        "colab": {
          "base_uri": "https://localhost:8080/",
          "height": 35
        }
      },
      "source": [
        "import os # for operating system functionalities\n",
        "import spotipy # for Spotify Web API\n",
        "import timeit # for runtime checking\n",
        "import pandas as pd # for data manipulation & analysis\n",
        "import numpy as np # for linear algebra\n",
        "import IPython # for audio previews\n",
        "import colab_env # for Google Colab environment variables\n",
        "from spotipy.oauth2 import SpotifyClientCredentials # for Spotify authentication\n",
        "from tqdm.notebook import trange, tqdm # for progress bars\n",
        "from IPython.display import Image # for images display\n"
      ],
      "execution_count": 3,
      "outputs": [
        {
          "output_type": "stream",
          "text": [
            "Drive already mounted at /content/gdrive; to attempt to forcibly remount, call drive.mount(\"/content/gdrive\", force_remount=True).\n"
          ],
          "name": "stdout"
        }
      ]
    },
    {
      "cell_type": "markdown",
      "metadata": {
        "id": "fwpVknYSqqgN"
      },
      "source": [
        "#### Import spotipy library to use Spotify Web API\n",
        "https://spotipy.readthedocs.io/"
      ]
    },
    {
      "cell_type": "markdown",
      "metadata": {
        "id": "DHu2Oq2yqqgO"
      },
      "source": [
        "## Authentication"
      ]
    },
    {
      "cell_type": "code",
      "metadata": {
        "id": "1z3pmxMCqqgO"
      },
      "source": [
        "client_id = os.getenv('CLIENT_ID')\n",
        "client_secret = os.getenv('CLIENT_SECRET')\n",
        "\n",
        "client_credentials_manager = SpotifyClientCredentials(client_id=client_id,\n",
        "                                                      client_secret=client_secret)\n",
        "sp = spotipy.Spotify(client_credentials_manager=client_credentials_manager)"
      ],
      "execution_count": 4,
      "outputs": []
    },
    {
      "cell_type": "markdown",
      "metadata": {
        "id": "5PTAUOnnqqgS"
      },
      "source": [
        "## List of playlists"
      ]
    },
    {
      "cell_type": "code",
      "metadata": {
        "scrolled": false,
        "id": "Btj2ED_CqqgT"
      },
      "source": [
        "USER_NAME = 'eargasmusic'\n",
        "user = sp.user(USER_NAME)\n",
        "playlist_dict = sp.user_playlists(USER_NAME)\n",
        "playlist_items = playlist_dict['items']\n",
        "\n",
        "# for item in playlist_items:\n",
        "#     print(item['id'])\n",
        "# all_playlists = pd.DataFrame(playlist_items,\n",
        "#                          columns=['id', 'name', 'external_urls', 'images', 'tracks'])\n",
        "\n",
        "playlist_details = [[item['id'],\n",
        "                     item['name'],\n",
        "                     item['external_urls']['spotify'],\n",
        "                     item['images'][0]['url'],\n",
        "                     item['tracks']['total']] for item in playlist_items]\n",
        "\n",
        "all_playlists = pd.DataFrame(playlist_details,\n",
        "                             columns=['id', 'name', 'url', 'image', 'tracks'])\n",
        "\n",
        "# Create boolean filter series to mask named and unnamed playlists\n",
        "named = all_playlists['name'].str.startswith('eargasm | ')\n",
        "unnamed = all_playlists['name'].str.startswith('eargasm music ')\n",
        "\n",
        "# Let's keep these playlists as unlabeled for later experiments\n",
        "unnamed_playlists = all_playlists[unnamed.values]\n",
        "# Extract all named playlists\n",
        "named_playlists = all_playlists[named.values]"
      ],
      "execution_count": 5,
      "outputs": []
    },
    {
      "cell_type": "markdown",
      "metadata": {
        "id": "9o2tuo8hqqgV"
      },
      "source": [
        "#### Save or the basic info dataframe to csv file"
      ]
    },
    {
      "cell_type": "code",
      "metadata": {
        "id": "RHJ8XM0iqqgW"
      },
      "source": [
        "named_playlists.to_csv('named_playlists.csv')\n",
        "unnamed_playlists.to_csv('unnamed_playlists.csv')"
      ],
      "execution_count": 6,
      "outputs": []
    },
    {
      "cell_type": "markdown",
      "metadata": {
        "id": "2JCnXPGaqqgY"
      },
      "source": [
        "#### Load the previously fetched data"
      ]
    },
    {
      "cell_type": "code",
      "metadata": {
        "id": "UC_2ECg-qqgZ"
      },
      "source": [
        "# named_playlists = pd.read_csv('named_playlists.csv', index_col=0)\n",
        "# unnamed_playlists = pd.read_csv('unnamed_playlists.csv', index_col=0)"
      ],
      "execution_count": 7,
      "outputs": []
    },
    {
      "cell_type": "code",
      "metadata": {
        "id": "dSxpzq0wqqgb",
        "outputId": "0daa8c4a-5648-45af-a44f-962f8f2ca797",
        "colab": {
          "base_uri": "https://localhost:8080/",
          "height": 204
        }
      },
      "source": [
        "named_playlists.head()"
      ],
      "execution_count": 8,
      "outputs": [
        {
          "output_type": "execute_result",
          "data": {
            "text/html": [
              "<div>\n",
              "<style scoped>\n",
              "    .dataframe tbody tr th:only-of-type {\n",
              "        vertical-align: middle;\n",
              "    }\n",
              "\n",
              "    .dataframe tbody tr th {\n",
              "        vertical-align: top;\n",
              "    }\n",
              "\n",
              "    .dataframe thead th {\n",
              "        text-align: right;\n",
              "    }\n",
              "</style>\n",
              "<table border=\"1\" class=\"dataframe\">\n",
              "  <thead>\n",
              "    <tr style=\"text-align: right;\">\n",
              "      <th></th>\n",
              "      <th>id</th>\n",
              "      <th>name</th>\n",
              "      <th>url</th>\n",
              "      <th>image</th>\n",
              "      <th>tracks</th>\n",
              "    </tr>\n",
              "  </thead>\n",
              "  <tbody>\n",
              "    <tr>\n",
              "      <th>0</th>\n",
              "      <td>5apHWYcigR3lSZpyzyGKEa</td>\n",
              "      <td>eargasm | breathe easy</td>\n",
              "      <td>https://open.spotify.com/playlist/5apHWYcigR3l...</td>\n",
              "      <td>https://i.scdn.co/image/ab67706c0000bebbd3ccf5...</td>\n",
              "      <td>173</td>\n",
              "    </tr>\n",
              "    <tr>\n",
              "      <th>1</th>\n",
              "      <td>3MXM4ca1b3bT198F7mG9ms</td>\n",
              "      <td>eargasm | city walk</td>\n",
              "      <td>https://open.spotify.com/playlist/3MXM4ca1b3bT...</td>\n",
              "      <td>https://i.scdn.co/image/ab67706c0000da84e10d9c...</td>\n",
              "      <td>242</td>\n",
              "    </tr>\n",
              "    <tr>\n",
              "      <th>2</th>\n",
              "      <td>2QdM3NBe7lkOzC7OqWXfNI</td>\n",
              "      <td>eargasm | curvatronik</td>\n",
              "      <td>https://open.spotify.com/playlist/2QdM3NBe7lkO...</td>\n",
              "      <td>https://i.scdn.co/image/ab67706c0000bebb2aa390...</td>\n",
              "      <td>213</td>\n",
              "    </tr>\n",
              "    <tr>\n",
              "      <th>3</th>\n",
              "      <td>1CwPTyGbQDSda6m7vTys1d</td>\n",
              "      <td>eargasm | decadency</td>\n",
              "      <td>https://open.spotify.com/playlist/1CwPTyGbQDSd...</td>\n",
              "      <td>https://i.scdn.co/image/ab67706c0000da84c70dd4...</td>\n",
              "      <td>68</td>\n",
              "    </tr>\n",
              "    <tr>\n",
              "      <th>4</th>\n",
              "      <td>6pGQQZ4PITmFnSC0rTnmXp</td>\n",
              "      <td>eargasm | deep water</td>\n",
              "      <td>https://open.spotify.com/playlist/6pGQQZ4PITmF...</td>\n",
              "      <td>https://i.scdn.co/image/ab67706c0000da846e34ff...</td>\n",
              "      <td>93</td>\n",
              "    </tr>\n",
              "  </tbody>\n",
              "</table>\n",
              "</div>"
            ],
            "text/plain": [
              "                       id  ... tracks\n",
              "0  5apHWYcigR3lSZpyzyGKEa  ...    173\n",
              "1  3MXM4ca1b3bT198F7mG9ms  ...    242\n",
              "2  2QdM3NBe7lkOzC7OqWXfNI  ...    213\n",
              "3  1CwPTyGbQDSda6m7vTys1d  ...     68\n",
              "4  6pGQQZ4PITmFnSC0rTnmXp  ...     93\n",
              "\n",
              "[5 rows x 5 columns]"
            ]
          },
          "metadata": {
            "tags": []
          },
          "execution_count": 8
        }
      ]
    },
    {
      "cell_type": "code",
      "metadata": {
        "scrolled": false,
        "id": "041Zhhg4qqgd",
        "outputId": "54c72128-858b-49ee-8ea9-e75de2a8fb8b",
        "colab": {
          "base_uri": "https://localhost:8080/",
          "height": 204
        }
      },
      "source": [
        "unnamed_playlists.head()"
      ],
      "execution_count": 9,
      "outputs": [
        {
          "output_type": "execute_result",
          "data": {
            "text/html": [
              "<div>\n",
              "<style scoped>\n",
              "    .dataframe tbody tr th:only-of-type {\n",
              "        vertical-align: middle;\n",
              "    }\n",
              "\n",
              "    .dataframe tbody tr th {\n",
              "        vertical-align: top;\n",
              "    }\n",
              "\n",
              "    .dataframe thead th {\n",
              "        text-align: right;\n",
              "    }\n",
              "</style>\n",
              "<table border=\"1\" class=\"dataframe\">\n",
              "  <thead>\n",
              "    <tr style=\"text-align: right;\">\n",
              "      <th></th>\n",
              "      <th>id</th>\n",
              "      <th>name</th>\n",
              "      <th>url</th>\n",
              "      <th>image</th>\n",
              "      <th>tracks</th>\n",
              "    </tr>\n",
              "  </thead>\n",
              "  <tbody>\n",
              "    <tr>\n",
              "      <th>29</th>\n",
              "      <td>43754bIdP7b0ygh8tTMenW</td>\n",
              "      <td>eargasm music 2020</td>\n",
              "      <td>https://open.spotify.com/playlist/43754bIdP7b0...</td>\n",
              "      <td>https://i.scdn.co/image/ab67706c0000da84c881c9...</td>\n",
              "      <td>254</td>\n",
              "    </tr>\n",
              "    <tr>\n",
              "      <th>30</th>\n",
              "      <td>0MsxZLGhAKJyBMXAfD03db</td>\n",
              "      <td>eargasm music 2019</td>\n",
              "      <td>https://open.spotify.com/playlist/0MsxZLGhAKJy...</td>\n",
              "      <td>https://i.scdn.co/image/ab67706c0000da84eabc26...</td>\n",
              "      <td>815</td>\n",
              "    </tr>\n",
              "    <tr>\n",
              "      <th>31</th>\n",
              "      <td>4tFrGBRcTYsrz5BwCGZS8L</td>\n",
              "      <td>eargasm music 2018</td>\n",
              "      <td>https://open.spotify.com/playlist/4tFrGBRcTYsr...</td>\n",
              "      <td>https://i.scdn.co/image/ab67706c0000bebb96c0b2...</td>\n",
              "      <td>826</td>\n",
              "    </tr>\n",
              "    <tr>\n",
              "      <th>32</th>\n",
              "      <td>0tNl58CSFwviwg7LxWzdwy</td>\n",
              "      <td>eargasm music 2017</td>\n",
              "      <td>https://open.spotify.com/playlist/0tNl58CSFwvi...</td>\n",
              "      <td>https://i.scdn.co/image/ab67706c0000bebbb7c821...</td>\n",
              "      <td>876</td>\n",
              "    </tr>\n",
              "    <tr>\n",
              "      <th>33</th>\n",
              "      <td>2CDNi9K1M0ilAUQn1FTVp4</td>\n",
              "      <td>eargasm music 2016</td>\n",
              "      <td>https://open.spotify.com/playlist/2CDNi9K1M0il...</td>\n",
              "      <td>https://i.scdn.co/image/ab67706c0000bebbde6035...</td>\n",
              "      <td>61</td>\n",
              "    </tr>\n",
              "  </tbody>\n",
              "</table>\n",
              "</div>"
            ],
            "text/plain": [
              "                        id  ... tracks\n",
              "29  43754bIdP7b0ygh8tTMenW  ...    254\n",
              "30  0MsxZLGhAKJyBMXAfD03db  ...    815\n",
              "31  4tFrGBRcTYsrz5BwCGZS8L  ...    826\n",
              "32  0tNl58CSFwviwg7LxWzdwy  ...    876\n",
              "33  2CDNi9K1M0ilAUQn1FTVp4  ...     61\n",
              "\n",
              "[5 rows x 5 columns]"
            ]
          },
          "metadata": {
            "tags": []
          },
          "execution_count": 9
        }
      ]
    },
    {
      "cell_type": "markdown",
      "metadata": {
        "id": "ZqKz_jMuqqgf"
      },
      "source": [
        "#### Random named playlist info"
      ]
    },
    {
      "cell_type": "code",
      "metadata": {
        "id": "9qJXxpufqqgg",
        "outputId": "e029dec2-6bf7-44c1-c49f-ed627b2e9457",
        "colab": {
          "base_uri": "https://localhost:8080/",
          "height": 392
        }
      },
      "source": [
        "random_playlist_id = named_playlists['id'][np.random.randint(0, len(named_playlists['id']))]\n",
        "random_filter = named_playlists['id'] == random_playlist_id\n",
        "random_playlist_info = named_playlists[random_filter.values].iloc[0]\n",
        "for key, value in random_playlist_info.iteritems():\n",
        "    if key == 'image': IMAGE_URL=value\n",
        "    else: print('{}: {}'.format(key, value))\n",
        "Image(url = IMAGE_URL, width = 300, height = 300)"
      ],
      "execution_count": 12,
      "outputs": [
        {
          "output_type": "stream",
          "text": [
            "id: 1YfxkylLN0ecX19mAquHGy\n",
            "name: eargasm | dust settling\n",
            "url: https://open.spotify.com/playlist/1YfxkylLN0ecX19mAquHGy\n",
            "tracks: 85\n"
          ],
          "name": "stdout"
        },
        {
          "output_type": "execute_result",
          "data": {
            "text/html": [
              "<img src=\"https://i.scdn.co/image/ab67706c0000bebb5df4b8f9ae2b004c46504778\" width=\"300\" height=\"300\"/>"
            ],
            "text/plain": [
              "<IPython.core.display.Image object>"
            ]
          },
          "metadata": {
            "tags": []
          },
          "execution_count": 12
        }
      ]
    },
    {
      "cell_type": "markdown",
      "metadata": {
        "id": "jm5vcJHtqqgi"
      },
      "source": [
        "## Basic song information"
      ]
    },
    {
      "cell_type": "markdown",
      "metadata": {
        "id": "Jf8Veramqqgj"
      },
      "source": [
        "#### Run to retrieve fresh data"
      ]
    },
    {
      "cell_type": "code",
      "metadata": {
        "id": "uyLldeHKqqgj",
        "outputId": "be4d5ba6-bd65-4d9c-fe89-9256690d15ed",
        "colab": {
          "base_uri": "https://localhost:8080/",
          "height": 276,
          "referenced_widgets": [
            "cf046b15a50e4e33adadcca0792e6eea",
            "8b14c1e5199a4510b55ba6776c664fb1",
            "eed971ce7cf34a3d834817a5ba0945b8",
            "cc39e1c1419b45a0bbb0507d0fea5363",
            "2976946dd64e443296da3f93b5e4b27b",
            "6eed4e8eaa4e4a639ef89a99e9310343",
            "3bb03b5c459f47c5a9c330018fac3b08",
            "1c24fb2126834712976a180b07ddae55"
          ]
        }
      },
      "source": [
        "start = timeit.default_timer()\n",
        "\n",
        "track_id = []\n",
        "track_artists = []\n",
        "track_name = []\n",
        "track_duration = []\n",
        "track_popularity = []\n",
        "track_releasedate = []\n",
        "track_preview = []\n",
        "track_url = []\n",
        "track_playlist = []\n",
        "\n",
        "\n",
        "for _, (_id, _name) in tqdm(named_playlists.iterrows()):\n",
        "    \n",
        "    # Run in 100-item chunks to bypass Spotify API query limit\n",
        "    for i in tqdm(range(0,10000,100)):\n",
        "        \n",
        "        playlist_items = sp.playlist_items(_id, limit=100, offset=i)['items']        \n",
        "        for item in playlist_items:\n",
        "            track_id.append(item['track']['id'])\n",
        "            track_artists.append(item['track']['artists'][0]['name'])\n",
        "            track_name.append(item['track']['name'])\n",
        "            track_duration.append(item['track']['duration_ms'])\n",
        "            track_popularity.append(item['track']['popularity'])\n",
        "            track_releasedate.append(item['track']['album']['release_date'])\n",
        "            track_preview.append(item['track']['preview_url'])\n",
        "            track_url.append(item['track']['external_urls']['spotify'])\n",
        "            track_playlist.append(_name)        \n",
        "    \n",
        "basic_info_df = pd.DataFrame({'track_id': track_id,\n",
        "                              'track_artists': track_artists,\n",
        "                              'track_name': track_name,\n",
        "                              'track_duration': track_duration,\n",
        "                              'track_popularity': track_popularity,\n",
        "                              'track_releasedate': track_releasedate,\n",
        "                              'track_preview': track_preview,\n",
        "                              'track_url': track_url,\n",
        "                              'track_playlist': track_playlist})\n",
        "\n",
        "stop = timeit.default_timer()\n",
        "print('Runtime: {} seconds.'.format(stop-start))"
      ],
      "execution_count": 11,
      "outputs": [
        {
          "output_type": "display_data",
          "data": {
            "application/vnd.jupyter.widget-view+json": {
              "model_id": "cf046b15a50e4e33adadcca0792e6eea",
              "version_minor": 0,
              "version_major": 2
            },
            "text/plain": [
              "HBox(children=(FloatProgress(value=1.0, bar_style='info', max=1.0), HTML(value='')))"
            ]
          },
          "metadata": {
            "tags": []
          }
        },
        {
          "output_type": "error",
          "ename": "ValueError",
          "evalue": "ignored",
          "traceback": [
            "\u001b[0;31m---------------------------------------------------------------------------\u001b[0m",
            "\u001b[0;31mValueError\u001b[0m                                Traceback (most recent call last)",
            "\u001b[0;32m<ipython-input-11-0274d05af77e>\u001b[0m in \u001b[0;36m<module>\u001b[0;34m()\u001b[0m\n\u001b[1;32m     12\u001b[0m \u001b[0;34m\u001b[0m\u001b[0m\n\u001b[1;32m     13\u001b[0m \u001b[0;34m\u001b[0m\u001b[0m\n\u001b[0;32m---> 14\u001b[0;31m \u001b[0;32mfor\u001b[0m \u001b[0m_\u001b[0m\u001b[0;34m,\u001b[0m \u001b[0;34m(\u001b[0m\u001b[0m_id\u001b[0m\u001b[0;34m,\u001b[0m \u001b[0m_name\u001b[0m\u001b[0;34m)\u001b[0m \u001b[0;32min\u001b[0m \u001b[0mtqdm\u001b[0m\u001b[0;34m(\u001b[0m\u001b[0mnamed_playlists\u001b[0m\u001b[0;34m.\u001b[0m\u001b[0miterrows\u001b[0m\u001b[0;34m(\u001b[0m\u001b[0;34m)\u001b[0m\u001b[0;34m)\u001b[0m\u001b[0;34m:\u001b[0m\u001b[0;34m\u001b[0m\u001b[0;34m\u001b[0m\u001b[0m\n\u001b[0m\u001b[1;32m     15\u001b[0m \u001b[0;34m\u001b[0m\u001b[0m\n\u001b[1;32m     16\u001b[0m     \u001b[0;31m# Run in 100-item chunks to bypass Spotify API query limit\u001b[0m\u001b[0;34m\u001b[0m\u001b[0;34m\u001b[0m\u001b[0;34m\u001b[0m\u001b[0m\n",
            "\u001b[0;31mValueError\u001b[0m: too many values to unpack (expected 2)"
          ]
        }
      ]
    },
    {
      "cell_type": "markdown",
      "metadata": {
        "id": "kO_zzEsvqqgl"
      },
      "source": [
        "#### Save or the basic info dataframe to csv file"
      ]
    },
    {
      "cell_type": "code",
      "metadata": {
        "id": "OX0tWdPWqqgm"
      },
      "source": [
        "basic_info_df.to_csv('basic_info.csv')"
      ],
      "execution_count": null,
      "outputs": []
    },
    {
      "cell_type": "markdown",
      "metadata": {
        "id": "gpIzznA5qqgo"
      },
      "source": [
        "#### Load the previously fetched data"
      ]
    },
    {
      "cell_type": "code",
      "metadata": {
        "id": "gWdvQLQUqqgo"
      },
      "source": [
        "# basic_info_df = pd.read_csv('basic_info.csv', index_col=0)"
      ],
      "execution_count": null,
      "outputs": []
    },
    {
      "cell_type": "markdown",
      "metadata": {
        "id": "qezgsNAIqqgq"
      },
      "source": [
        "#### Check the dataframe info"
      ]
    },
    {
      "cell_type": "code",
      "metadata": {
        "id": "Dor-SU_fqqgr"
      },
      "source": [
        "basic_info_df.head()"
      ],
      "execution_count": null,
      "outputs": []
    },
    {
      "cell_type": "code",
      "metadata": {
        "id": "R8w-Xov_qqgt"
      },
      "source": [
        "basic_info_df.shape"
      ],
      "execution_count": null,
      "outputs": []
    },
    {
      "cell_type": "code",
      "metadata": {
        "scrolled": true,
        "id": "xRNlGJMGqqgx"
      },
      "source": [
        "basic_info_df.info()"
      ],
      "execution_count": null,
      "outputs": []
    },
    {
      "cell_type": "markdown",
      "metadata": {
        "id": "9YUkBi8Rqqgz"
      },
      "source": [
        "#### Random track basic info"
      ]
    },
    {
      "cell_type": "code",
      "metadata": {
        "scrolled": false,
        "id": "Czg1i0lVqqg0"
      },
      "source": [
        "random_track_id = basic_info_df['track_id'][np.random.randint(0, len(basic_info_df['track_id']))]\n",
        "random_filter = basic_info_df['track_id'] == random_track_id\n",
        "random_track_info = basic_info_df[random_filter.values].iloc[0]\n",
        "for key, value in random_track_info.iteritems():\n",
        "    if key == 'track_preview' and value is not np.nan:\n",
        "        PREVIEW_URL = value\n",
        "    print('{}: {}'.format(key, value))\n",
        "IPython.display.Audio(url=PREVIEW_URL, embed=True)"
      ],
      "execution_count": null,
      "outputs": []
    },
    {
      "cell_type": "code",
      "metadata": {
        "id": "qgl0rWAwqqg2"
      },
      "source": [
        ""
      ],
      "execution_count": null,
      "outputs": []
    },
    {
      "cell_type": "markdown",
      "metadata": {
        "id": "Jl5FPpiFqqg4"
      },
      "source": [
        "## Audio features"
      ]
    },
    {
      "cell_type": "code",
      "metadata": {
        "scrolled": true,
        "id": "yTI8VKU3qqg4"
      },
      "source": [
        "def audio_features(id):\n",
        "    all_features = sp.audio_features(id)[0]\n",
        "    columns_to_keep = ['id',\n",
        "                       'danceability',\n",
        "                       'energy',\n",
        "                       'speechiness',\n",
        "                       'acousticness',\n",
        "                       'instrumentalness',\n",
        "                       'liveness',\n",
        "                       'valence']\n",
        "    selected_features = { column: all_features[column] for column in columns_to_keep }\n",
        "    \n",
        "    return selected_features"
      ],
      "execution_count": null,
      "outputs": []
    },
    {
      "cell_type": "code",
      "metadata": {
        "id": "ehjpTn8jqqg6"
      },
      "source": [
        "print('Random track'audio_features('0hXzxTABL0Q85WhdzS62Fc'))"
      ],
      "execution_count": null,
      "outputs": []
    },
    {
      "cell_type": "code",
      "metadata": {
        "id": "K_mOlbAXqqg8"
      },
      "source": [
        "start = timeit.default_timer()\n",
        "\n",
        "audio_features_df = pd.DataFrame()\n",
        "\n",
        "for track_id in tqdm(labeled_songs['track_id']):\n",
        "    features = audio_features(track_id)   \n",
        "    audio_features_df = audio_features_df.append(features, ignore_index=True)\n",
        "\n",
        "stop = timeit.default_timer()\n",
        "print('Runtime: {} seconds.'.format(stop-start))"
      ],
      "execution_count": null,
      "outputs": []
    },
    {
      "cell_type": "code",
      "metadata": {
        "id": "_r2yRnJyqqg-"
      },
      "source": [
        "audio_features_df"
      ],
      "execution_count": null,
      "outputs": []
    },
    {
      "cell_type": "markdown",
      "metadata": {
        "id": "LlnOqrwXqqhA"
      },
      "source": [
        "## Audio analysis"
      ]
    },
    {
      "cell_type": "code",
      "metadata": {
        "id": "alwyMmhEqqhB"
      },
      "source": [
        "def audio_analysis(id):\n",
        "    track_features = sp.audio_analysis(id)['track']  \n",
        "    \n",
        "    columns_to_keep = ['tempo',\n",
        "                       'tempo_confidence',\n",
        "                       'time_signature',\n",
        "                       'time_signature_confidence',\n",
        "                       'key',\n",
        "                       'key_confidence',\n",
        "                       'mode',\n",
        "                       'mode_confidence']\n",
        "    \n",
        "    selected_analysis = { column: track_features[column] for column in columns_to_keep }\n",
        "    \n",
        "    selected_analysis['number_of_sections'] = len(sp.audio_analysis(id)['sections'][0])\n",
        "    selected_analysis['track_id'] = id\n",
        "    \n",
        "    return selected_analysis\n",
        "\n",
        "audio_analysis('0hXzxTABL0Q85WhdzS62Fc')"
      ],
      "execution_count": null,
      "outputs": []
    },
    {
      "cell_type": "code",
      "metadata": {
        "id": "eIQ3VqCsqqhD"
      },
      "source": [
        "start = timeit.default_timer()\n",
        "audio_analysis_df = pd.DataFrame()\n",
        "\n",
        "\n",
        "for track_id in tqdm(labeled_songs['track_id']):\n",
        "    # Continue when encountered an error\n",
        "    try:\n",
        "        analysis = audio_analysis(track_id)\n",
        "        audio_analysis_df = audio_analysis_df.append(analysis, ignore_index=True)\n",
        "    except:\n",
        "        audio_analysis_df = audio_analysis_df.append({'tempo': np.nan,\n",
        "                                                      'tempo_confidence': np.nan,\n",
        "                                                      'time_signature': np.nan,\n",
        "                                                      'time_signature_confidence': np.nan,\n",
        "                                                      'key': np.nan,\n",
        "                                                      'key_confidence': np.nan,\n",
        "                                                      'mode': np.nan,\n",
        "                                                      'mode_confidence': np.nan,\n",
        "                                                      'number_of_sections': np.nan,\n",
        "                                                      'track_id': track_id},\n",
        "                                                      ignore_index=True)\n",
        "\n",
        "stop = timeit.default_timer()\n",
        "print('Runtime: {} seconds.'.format(stop-start))"
      ],
      "execution_count": null,
      "outputs": []
    },
    {
      "cell_type": "code",
      "metadata": {
        "id": "7DzZbZ_KqqhG"
      },
      "source": [
        "audio_analysis_df"
      ],
      "execution_count": null,
      "outputs": []
    },
    {
      "cell_type": "markdown",
      "metadata": {
        "id": "yxyWUY9jqqhH"
      },
      "source": [
        "## Merge basic info with audio features & audio analysis"
      ]
    },
    {
      "cell_type": "code",
      "metadata": {
        "scrolled": true,
        "id": "C_D1xgw2qqhI"
      },
      "source": [
        "print('Labeled songs:', labeled_songs.shape)\n",
        "print('Audio features:', audio_features_df.shape)\n",
        "print('Audio analysis:', audio_analysis_df.shape)"
      ],
      "execution_count": null,
      "outputs": []
    },
    {
      "cell_type": "code",
      "metadata": {
        "id": "hW39CO7AqqhJ"
      },
      "source": [
        "df = pd.merge(labeled_songs, audio_features_df, )\n",
        "df"
      ],
      "execution_count": null,
      "outputs": []
    },
    {
      "cell_type": "code",
      "metadata": {
        "id": "ZGIScYreqqhL"
      },
      "source": [
        ""
      ],
      "execution_count": null,
      "outputs": []
    },
    {
      "cell_type": "code",
      "metadata": {
        "id": "MhtSEs-1qqhN"
      },
      "source": [
        "labeled_songs.reset_index(inplace=True)\n",
        "# labeled_songs.set_index(['track_id'], inplace=True)\n",
        "\n",
        "audio_features_df.reset_index(inplace=True)\n",
        "# audio_features_df.set_index(['track_id'], inplace=True)\n",
        "\n",
        "audio_analysis_df.reset_index(inplace=True)\n",
        "# audio_analysis_df.set_index(['track_id'], inplace=True)"
      ],
      "execution_count": null,
      "outputs": []
    },
    {
      "cell_type": "code",
      "metadata": {
        "id": "mbHFjARYqqhP"
      },
      "source": [
        "features_df = pd.merge(audio_analysis_df,\n",
        "                    audio_features_df)\n",
        "final_df = pd.merge(labeled_songs,\n",
        "                   features_df)\n",
        "final_df"
      ],
      "execution_count": null,
      "outputs": []
    },
    {
      "cell_type": "markdown",
      "metadata": {
        "id": "bD-GA_XPqqhR"
      },
      "source": [
        "## TO DO\n",
        "\n",
        "- duplicate songs\n",
        "- similarities between playlists\n",
        "- new songs recommendations/prediction\n",
        "- audio features\n",
        "- add genre\n",
        "- preview_url\n",
        "- uri\n",
        "- external_urls\n",
        "- add random playlist (with number of songs and background image)"
      ]
    },
    {
      "cell_type": "markdown",
      "metadata": {
        "id": "z7XPYwtcqqhR"
      },
      "source": [
        "## References\n",
        "- https://github.com/tgel0/spotify-data\n",
        "- https://www.kaggle.com/aeryan/spotify-music-analysis\n",
        "- https://www.kaggle.com/arpita28/analysis-of-spotify-trends\n",
        "- https://www.kaggle.com/jsongunsw/spotify-datasets\n",
        "- https://www.kaggle.com/mohitkr05/spotify-data-visualization\n",
        "- https://www.kaggle.com/karthiknc/spotify-visualisation-analysis\n",
        "- https://www.kaggle.com/souhardyaganguly/spotify-svm\n",
        "- https://www.kaggle.com/lowkimhoe/prediction-model-on-spotify-classification\n",
        "- https://www.kaggle.com/pavansanagapati/birds-sounds-eda-spotify-urban-sound-eda\n",
        "- https://www.kaggle.com/shadey/spotify\n",
        "- https://medium.com/swlh/creating-waveforms-out-of-spotify-tracks-b22030dd442b\n",
        "- https://vsupalov.com/analyze-spotify-music-library-with-jupyter-pandas/\n",
        "- https://www.youtube.com/watch?v=v-9Mpe7NhkM\n",
        "- http://harpolea.github.io/2018-05-09-spotipy\n",
        "- https://medium.com/analytics-vidhya/music-genre-classification-with-python-51bff77adfd6"
      ]
    },
    {
      "cell_type": "code",
      "metadata": {
        "id": "clSbC82gqqhR"
      },
      "source": [
        "recommendations(seed_artists=None, seed_genres=None, seed_tracks=None, limit=20, country=None, **kwargs)"
      ],
      "execution_count": null,
      "outputs": []
    },
    {
      "cell_type": "code",
      "metadata": {
        "id": "SF1qJClVqqhT"
      },
      "source": [
        ""
      ],
      "execution_count": null,
      "outputs": []
    }
  ]
}